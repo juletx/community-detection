{
 "cells": [
  {
   "cell_type": "markdown",
   "metadata": {},
   "source": [
    "# 3. Fasea: Algoritmoen konparaketa eta Txostena\n",
    "\n",
    "Dagoeneko problema formalizatu dugu, eta bi algoritmo desberdin inplementatu ere. Gogoratuko zaretenez, inplementatu dituzuen bi algoritmoek, komunitate kopuru jakin bat emanik, modularitatea minimizatzen duen NIPSeko grafoko komunitate banaketa (soluzioa) bilatzen saiatzea da. Proiektuaren hirugarren eta azken fase honetan, 2 komunitatetik hasita, 100 komunitatera arte aldatuz, algoritmo bakoitzaren konparaketa gauzatuko dugu. Beti ere, jakiteko gure algoritmoak onak edo txarrak diren, <i>baseline</i> algoritmo bat ere gehituko dugu jolasera, Random Search-a (baduzue kodea klaseko ariketetatik).\n",
    "\n",
    "\n",
    "#### Entregablea\n",
    "\n",
    "Hirugarren fasea ebaluatu ahal izateko, LaTeXen editatutako txosten bat idatzi eta entragatu beharko duzue. Txostena eGelara igo beharko duzue zehazten diren <b>egun eta orduan</b>. Garaiz ez entregatzeak, 0-ko suposatuko du ebaluagarria den proiektuaren zati horretan. Adi! ez dute balio aitzakiek, denbora soberan duzue aurretiaz egiteko, igotzeko eGelara eta aseguratzeko entregatuta geratu dela. <b>Ez dut onartuko atzerapenik</b>.\n",
    "\n",
    "Jarraian, ataza bakoitzari begira, apunte batzuk ematen dizkizuet. Horrez gain, eGelan BBC-ko bideo grabaketa bat, analisi estatistikoko adibide bat, eta hainbat artikulu zientifiko utzi dizkizuet kontsultarako.\n",
    "\n",
    "## Algoritmoen konparaketa\n",
    "\n",
    "Hiru algoritmo estokastiko ditugularik esku artean, nola konparatuko dugu euren errendimendua exekuzio bakoitzean soluzio desberdin bat lortzen baldin badugu? Normalena, algoritmoen portaeraren irudi argi bat izateko, esperimentazio bat egitea da onena. Horrek, guretzako ezezaguna den algoritmoen portaeraren lagin bat itzuliko digu, eta horrekin, ondorioak atera ahal izango dugu. Jarraian, kontuan izan beharreko puntu batzuk:\n",
    "\n",
    "<ul>\n",
    "    <li> Kodeen efizientzia hobetu. Esperimentazio batek exekuzio asko eta asko inplikatzen ditu (hainbat algoritmo, hainbat errepikapen, hainbat instantzia desberdinen gainean), batzutan milaka dira. Algoritmoek 10 minutu behar badituzte exekuzioak egiteko, beharbada ez dugu izango exekuzio guztiak egiteko denborarik. Profiling tresnak erabiliz, kodeak exekutatzeko behar duen denbora totalarekiko, kodeko atal bakoitzak errepresentatzen duen denbora portzentaia kalkulatu dezakegu. Portzentai altueneko kode atalak optimizatuz, algoritmoa azkarragoa izango da!\n",
    "    <li> Algoritmoen parametroak kalibratu. Algoritmoek hainbat parametro izaten dituzte, eta sarritane ez dakigu zein balio ezarri. Adibidez, zein da <i>Simulated Annealing</i>-eko hasierako tenperatuta, edota zeintzuk dira algoritmo genetiko bateko populazio tamaina, <i>crossover rate</i> edo sortutako soluzio berri kopurua generazio bakoitzean? Parametroak aukeratzea ere optimizazio problema bat da bera bakarrik. Zein parametro konbinaketarekin lortzen dugu gure algoritmoaren errendimendu altuena? eGelan, iRace paketearen inguruko artikulu bat utzi dizuet, baina badaude beste teknika batzuk ere, adibidez Grid Search. Lan honetan, parametroak kalibratu beharko dituzue teknika zehatzen bat erabiliz.\n",
    "    <li> Diseinu esperimentala. Exekuzioak egin aurretik, argi eta garbi izan behar dugu egingo dugun diseinu esperimentala. Kasu honetan, 2 komunitatetik 100 komunitatera arte aldatuz algoritmoak konparatu beharko dituzue. Egokiena, algoritmo bakoitza 10 aldiz errepikatzea da (gehiegi bada, 5 errepikapen). Algoritmoak gelditzeko irizpidea, 10^5 ebaluazio izango dira. Behin horrekin egin duzuenean 10^6 ebaluaziorekin egiten saiatu (balio horiek ez badira egokiak aldaketak egingo ditugu entrega aurretik). Random Search algoritmoa erabili <i>baseline</i> bezela argi ikusteko zuen algoritmoen portaera nahiko ona dela.\n",
    "    <li> Emaitzen bisualizazioa. Normalean, emaitzak taula eta grafika bitartez irudikatzen dira, baina kasu honetan bideoak egitea ere probatu dezakezue. Ideia batzuk:\n",
    "    <ul>\n",
    "        <li> Batazbestekoak eta bariantzak kalkulatu eta tauletan idatzi.\n",
    "        <li> Boxplot formako irudiak egin algoritmoak konparatuz eta x ardatzean komunitate kopurua ezarririk.\n",
    "        <li> Gogoratu ikusi ditugun algoritmoek uneoro soluzio bat dutela esku artean, eta beraz, hori, koloreztatutako grafo batera pasatzen baduzue, optimizazio prozesuaren bideo bat egin dezakezuela. Azken txostenean, link bat jarri dezakezue bideora.\n",
    "    </ul>\n",
    "    <li> Zergaitik analisi estatistikoak behar dira? Hasieran esan bezala, algoritmoaren portaera ezezaguna da, eta guk horren lagin aterako esperimentazio bitartez ondorioak atera ahal izateko. Baina... lagin hori nahikoa al da aipatu ditugun algorimoak konparatzeko? Ateratako ondorioak sendoak al dira? R-ko scmamp paketea erabiltzen duen, eta eGelan utzi dizuetan analisi estatistikoko script-a erabiltzea proposatzen dizuet. Adibide batekin dator. Horrez gain, youtubeko link-bat utzi dizuet, ikusi!\n",
    "</ul>\n",
    "\n",
    "\n",
    "\n",
    "## Txostenaren idazketa\n",
    "\n",
    "Txostenean, egindako lana bilduko dugu. Overleaf-en editatu beharko duzue eta <i>IEEE Journal Paper Template</i> txantiloia erabiliz, 4 orriko txosten bat idatzi beharko duzue. Ondorengo atalak proposatzen dizkizuet, baina aldaketak egin ditzazkezue:\n",
    "\n",
    "0. Laburpena\n",
    "1. Sarrera: Txostenaren nondik norakoa azaldu behar da.\n",
    "2. Optimizazio problema: problema zein den, proposatzen duzuen soluzioaren errepresentazioa, eta helburu-funtzioa azaldu behar dira.\n",
    "3. Proposatzen duzuen lehenengo algoritmoa. Pseudokodea edo diagrama bat egokia ongi azaltzeko.\n",
    "4. Proposatzen duzuen bigarrengo algoritmoa. Hemen ere pseudokodea edo diagrama bat egokia ongi azaltzeko.\n",
    "5. Esperimentazioa. Esperimentu desberdinen azalpenak jarri beharko dituzue. Parametroen aukeraketatik hasita, algoritmoen portaera azaltzen lagunduko diguten irudi, taula eta bestelako grafikak gehitu beharko dituzue. Azkenik, analisi estatistikoa ere egin beharko duzue. \n",
    "6. Ondorioak eta hobekuntza posibleak.\n",
    "7. Bibliografia.\n",
    "\n",
    "<u>Iruzkina 1: 4 orri gutxi dira, beraz bereiztu zer den garrantzitsua eta zer ez. Gomendioa, hasieran idatzi beharrezkoa uste duzuen guztia, eta ondoren joan egokitu, lau orrira. Adi, irudi, taula, grafika, pseudokode eta bestelako elementu guztiak testutik erreferentziatu egin behar dira. Irakurleak, testua irakurtzen du, eta beraz, erreferentziatzen ez diren elementuak existituko ez balira bezala da. Gainera, elementu horiek, azalpenak errazteko ematen dira, baina ez dira eurak bakarrik azaltzen, testu bidez baizik.</u>\n",
    "\n",
    "<u> Iruzkina 2: Txapelketan parte hartu ahal izateko, 20 komunitateko banaketa optimizatu beharko duzue, eta  zuen bi algoritmoen batazbesteko portaera onenak 10^5 eta 10^6 ebaluazio maximo kopuruekin esan beharko dizkidazue argi eta garbi. \n"
   ]
  },
  {
   "cell_type": "code",
   "execution_count": null,
   "metadata": {},
   "outputs": [],
   "source": []
  }
 ],
 "metadata": {
  "kernelspec": {
   "display_name": "Python 3",
   "language": "python",
   "name": "python3"
  },
  "language_info": {
   "codemirror_mode": {
    "name": "ipython",
    "version": 3
   },
   "file_extension": ".py",
   "mimetype": "text/x-python",
   "name": "python",
   "nbconvert_exporter": "python",
   "pygments_lexer": "ipython3",
   "version": "3.7.4"
  }
 },
 "nbformat": 4,
 "nbformat_minor": 2
}
